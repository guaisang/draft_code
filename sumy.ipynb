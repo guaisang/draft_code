{
 "cells": [
  {
   "cell_type": "code",
   "execution_count": 2,
   "metadata": {
    "collapsed": false
   },
   "outputs": [
    {
     "name": "stdout",
     "output_type": "stream",
     "text": [
      "But most modern presidents have agreed to sell or sequester their assets in a blind trust, led by an independent manager with supreme control, in order to keep past business deals, investments and relationships from influencing their White House term.\n",
      "If Trump’s family does take over management of the business, Norman Eisen, the chief White House ethics lawyer for President Obama from 2009 to 2011, said an “ethics firewall” would need to be put in place to combat the “risk of improper preferential relationships and treatment for the Trump Organization with the United States government and foreign ones.”\n",
      "Trump and his daughter, Ivanka, who will likely play a key part in running the company, met with Japanese Prime Minister Shinzo Abe during Trump’s first meeting as president-elect with a foreign government leader.\n",
      "His company, the Trump Organization, has over the years sealed lucrative real-estate and branding deals for business in at least 18 countries and territories across the world, including in places where the U.S. has sensitive diplomatic ties, such as Turkey, Azerbaijan and India.\n",
      "Peter Schweizer, a conservative author who raised alarms in the book “Clinton Cash” about Hillary Clinton’s possible conflicts of interest because of donations to her family’s foundation, said Trump will face an equally skeptical public, not just about his entanglements but those of his children as well.\n",
      "Stuart E. Eizenstat, who served as former President Jimmy Carter’s domestic policy chief and helped guide his transition to the White House, called Trump’s announcement today “an important first step showing that he recognizes the concerns of the press and the public.”\n",
      "Eizenstat, who also held several major positions in the Clinton administration, said the blind trust approach might be unworkable for Trump given those wide-ranging interests, his name brand on his companies and the active involvement of his children in the business.\n",
      "Given those hurdles, the best way to deal with the public policy challenges of Trump’s vast business portfolio may be to simply encourage “a free and unfettered press” to investigate Trump’s holdings and potential conflicts — along with his disclosure statements.\n",
      "Schooner, a George Washington University law professor, said in an email Monday that he worried GSA officials wouldn’t terminate the lease out of risk of financial penalties or “intimidation” from the incoming president.\n",
      "The official who oversaw the selection of Trump for the project, Robert A. Peck, said recently that he couldn’t imagine the average federal employee feeling much empowered to negotiate with one of Trump’s children while they also advised their father in the White House, if he holds on to the property.\n"
     ]
    }
   ],
   "source": [
    "from __future__ import absolute_import\n",
    "from __future__ import division, print_function, unicode_literals\n",
    "\n",
    "from sumy.parsers.html import HtmlParser\n",
    "from sumy.parsers.plaintext import PlaintextParser\n",
    "from sumy.nlp.tokenizers import Tokenizer\n",
    "from sumy.summarizers.lsa import LsaSummarizer as Summarizer\n",
    "from sumy.nlp.stemmers import Stemmer\n",
    "from sumy.utils import get_stop_words\n",
    "\n",
    "\n",
    "LANGUAGE = \"english\"\n",
    "SENTENCES_COUNT = 10\n",
    "\n",
    "\n",
    "if __name__ == \"__main__\":\n",
    "    url = \"https://www.washingtonpost.com/news/business/wp/2016/11/30/trump-announces-he-will-leave-business-in-total-leaving-open-how-he-will-avoid-conflicts-of-interest/?hpid=hp_rhp-top-table-main_trumpbusiness-730am%3Ahomepage%2Fstory&utm_term=.05b7b66843e7\"\n",
    "    parser = HtmlParser.from_url(url, Tokenizer(LANGUAGE))\n",
    "    # or for plain text files\n",
    "    # parser = PlaintextParser.from_file(\"document.txt\", Tokenizer(LANGUAGE))\n",
    "    stemmer = Stemmer(LANGUAGE)\n",
    "\n",
    "    summarizer = Summarizer(stemmer)\n",
    "    summarizer.stop_words = get_stop_words(LANGUAGE)\n",
    "\n",
    "    for sentence in summarizer(parser.document, SENTENCES_COUNT):\n",
    "        print(sentence)\n"
   ]
  },
  {
   "cell_type": "code",
   "execution_count": null,
   "metadata": {
    "collapsed": true
   },
   "outputs": [],
   "source": []
  }
 ],
 "metadata": {
  "kernelspec": {
   "display_name": "Python [Root]",
   "language": "python",
   "name": "Python [Root]"
  },
  "language_info": {
   "codemirror_mode": {
    "name": "ipython",
    "version": 2
   },
   "file_extension": ".py",
   "mimetype": "text/x-python",
   "name": "python",
   "nbconvert_exporter": "python",
   "pygments_lexer": "ipython2",
   "version": "2.7.12"
  }
 },
 "nbformat": 4,
 "nbformat_minor": 0
}
